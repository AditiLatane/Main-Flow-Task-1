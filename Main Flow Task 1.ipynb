{
 "cells": [
  {
   "cell_type": "markdown",
   "metadata": {},
   "source": [
    "DATA ANALYSIS AND DATA SCIENCE USING PYTHON\n",
    "\n",
    "TASK - 1 : Data Analysis Project Using Python\n",
    "\n",
    "Objective :\n",
    "Analyze a dataset of student exam scores and answer specific questions, presenting findings\n",
    "using Python libraries and techniques for data analysis."
   ]
  },
  {
   "cell_type": "markdown",
   "metadata": {},
   "source": [
    "a. Data Loading\n",
    "\n",
    "● Load the dataset using pandas.\n",
    "\n",
    "● Display the first few rows using .head()."
   ]
  },
  {
   "cell_type": "code",
   "execution_count": 1,
   "metadata": {},
   "outputs": [],
   "source": [
    "# Imported Libraries\n",
    "\n",
    "import pandas as pd \n",
    "import numpy as np\n",
    "import seaborn as sns\n",
    "import matplotlib.pyplot as plt"
   ]
  },
  {
   "cell_type": "code",
   "execution_count": 2,
   "metadata": {},
   "outputs": [
    {
     "name": "stdout",
     "output_type": "stream",
     "text": [
      "total columns in stud-mat :  33\n",
      "total columns in stud-por :  33\n",
      "Common columns :  33\n",
      "\n",
      "Stud-mat : \n",
      "  school   sex   age  address  famsize  Pstatus   Medu   Fedu        Mjob   \\\n",
      "0     GP    F      18      U      GT3        A        4      4   at_home     \n",
      "1     GP    F      17      U      GT3        T        1      1   at_home     \n",
      "2     GP    F      15      U      LE3        T        1      1   at_home     \n",
      "3     GP    F      15      U      GT3        T        4      2    health     \n",
      "4     GP    F      16      U      GT3        T        3      3     other     \n",
      "\n",
      "         Fjob   ... famrel  freetime   goout   Dalc   Walc  health  absences   \\\n",
      "0    teacher    ...       4         3       4      1      1       3         6   \n",
      "1      other    ...       5         3       3      1      1       3         4   \n",
      "2      other    ...       4         3       2      2      3       3        10   \n",
      "3   services    ...       3         2       2      1      1       5         2   \n",
      "4      other    ...       4         3       2      1      2       5         4   \n",
      "\n",
      "  G1  G2   G3  \n",
      "0   5   6   6  \n",
      "1   5   5   6  \n",
      "2   7   8  10  \n",
      "3  15  14  15  \n",
      "4   6  10  10  \n",
      "\n",
      "[5 rows x 33 columns]\n",
      "\n",
      "Stud-por : \n",
      "  school   sex   age  address  famsize  Pstatus   Medu   Fedu        Mjob   \\\n",
      "0     GP    F      18      U      GT3        A        4      4   at_home     \n",
      "1     GP    F      17      U      GT3        T        1      1   at_home     \n",
      "2     GP    F      15      U      LE3        T        1      1   at_home     \n",
      "3     GP    F      15      U      GT3        T        4      2    health     \n",
      "4     GP    F      16      U      GT3        T        3      3     other     \n",
      "\n",
      "         Fjob   ... famrel  freetime   goout   Dalc   Walc  health  absences   \\\n",
      "0    teacher    ...       4         3       4      1      1       3         4   \n",
      "1      other    ...       5         3       3      1      1       3         2   \n",
      "2      other    ...       4         3       2      2      3       3         6   \n",
      "3   services    ...       3         2       2      1      1       5         0   \n",
      "4      other    ...       4         3       2      1      2       5         0   \n",
      "\n",
      "  G1  G2   G3  \n",
      "0   0  11  11  \n",
      "1   9  11  11  \n",
      "2  12  13  12  \n",
      "3  14  14  14  \n",
      "4  11  13  13  \n",
      "\n",
      "[5 rows x 33 columns]\n"
     ]
    }
   ],
   "source": [
    "# Data Preview\n",
    "df1 = pd.read_csv('stud-mat.csv')\n",
    "df2 = pd.read_csv('stud-por.csv')\n",
    "\n",
    "print(\"total columns in stud-mat : \" , len(df1.columns))\n",
    "print(\"total columns in stud-por : \" , len(df2.columns))\n",
    "common_columns = df1.columns.intersection(df2.columns)\n",
    "print(\"Common columns : \", len(common_columns))\n",
    "print(\"\\nStud-mat : \")\n",
    "print(df1.head())\n",
    "print(\"\\nStud-por : \")\n",
    "print(df2.head())\n"
   ]
  },
  {
   "cell_type": "markdown",
   "metadata": {},
   "source": [
    "b. Data Exploration\n",
    "\n",
    "● Check for missing values using .isnull().sum().\n",
    "\n",
    "● Display column data types using .dtypes.\n",
    "\n",
    "● Understand the dataset's size using .shape."
   ]
  },
  {
   "cell_type": "code",
   "execution_count": 3,
   "metadata": {},
   "outputs": [
    {
     "name": "stdout",
     "output_type": "stream",
     "text": [
      "Shape of stud-mat :  (395, 33)\n",
      "Shape of stud-por :  (649, 33)\n",
      "Size of stud-mat :  13035\n",
      "Size of stud-por :  21417\n",
      "\n",
      "Dtype of stud-mat : \n",
      " school         object\n",
      "sex            object\n",
      "age             int64\n",
      "address        object\n",
      "famsize        object\n",
      "Pstatus        object\n",
      "Medu            int64\n",
      "Fedu            int64\n",
      "Mjob           object\n",
      "Fjob           object\n",
      "reason         object\n",
      "guardian       object\n",
      "traveltime      int64\n",
      "studytime       int64\n",
      "failures        int64\n",
      "schoolsup      object\n",
      "famsup         object\n",
      "paid           object\n",
      "activities     object\n",
      "nursery        object\n",
      "higher         object\n",
      "internet       object\n",
      "romantic       object\n",
      "famrel          int64\n",
      "freetime        int64\n",
      "goout           int64\n",
      "Dalc            int64\n",
      "Walc            int64\n",
      "health          int64\n",
      "absences        int64\n",
      "G1              int64\n",
      "G2              int64\n",
      "G3              int64\n",
      "dtype: object\n",
      "\n",
      "Dtype of stud-por : \n",
      " school         object\n",
      "sex            object\n",
      "age             int64\n",
      "address        object\n",
      "famsize        object\n",
      "Pstatus        object\n",
      "Medu            int64\n",
      "Fedu            int64\n",
      "Mjob           object\n",
      "Fjob           object\n",
      "reason         object\n",
      "guardian       object\n",
      "traveltime      int64\n",
      "studytime       int64\n",
      "failures        int64\n",
      "schoolsup      object\n",
      "famsup         object\n",
      "paid           object\n",
      "activities     object\n",
      "nursery        object\n",
      "higher         object\n",
      "internet       object\n",
      "romantic       object\n",
      "famrel          int64\n",
      "freetime        int64\n",
      "goout           int64\n",
      "Dalc            int64\n",
      "Walc            int64\n",
      "health          int64\n",
      "absences        int64\n",
      "G1              int64\n",
      "G2              int64\n",
      "G3              int64\n",
      "dtype: object\n",
      "\n",
      "Number of null values in each column of stud-mat : \n",
      " school         0\n",
      "sex            0\n",
      "age            0\n",
      "address        0\n",
      "famsize        0\n",
      "Pstatus        0\n",
      "Medu           0\n",
      "Fedu           0\n",
      "Mjob           0\n",
      "Fjob           0\n",
      "reason         0\n",
      "guardian       0\n",
      "traveltime     0\n",
      "studytime      0\n",
      "failures       0\n",
      "schoolsup      0\n",
      "famsup         0\n",
      "paid           0\n",
      "activities     0\n",
      "nursery        0\n",
      "higher         0\n",
      "internet       0\n",
      "romantic       0\n",
      "famrel         0\n",
      "freetime       0\n",
      "goout          0\n",
      "Dalc           0\n",
      "Walc           0\n",
      "health         0\n",
      "absences       0\n",
      "G1             0\n",
      "G2             0\n",
      "G3             0\n",
      "dtype: int64\n",
      "\n",
      "Number of null values in each column of stud-por : \n",
      " school         0\n",
      "sex            0\n",
      "age            0\n",
      "address        0\n",
      "famsize        0\n",
      "Pstatus        0\n",
      "Medu           0\n",
      "Fedu           0\n",
      "Mjob           0\n",
      "Fjob           0\n",
      "reason         0\n",
      "guardian       0\n",
      "traveltime     0\n",
      "studytime      0\n",
      "failures       0\n",
      "schoolsup      0\n",
      "famsup         0\n",
      "paid           0\n",
      "activities     0\n",
      "nursery        0\n",
      "higher         0\n",
      "internet       0\n",
      "romantic       0\n",
      "famrel         0\n",
      "freetime       0\n",
      "goout          0\n",
      "Dalc           0\n",
      "Walc           0\n",
      "health         0\n",
      "absences       0\n",
      "G1             0\n",
      "G2             0\n",
      "G3             0\n",
      "dtype: int64\n"
     ]
    }
   ],
   "source": [
    "# Understanding Dataset\n",
    "\n",
    "print(\"Shape of stud-mat : \" ,df1.shape)\n",
    "print(\"Shape of stud-por : \" ,df2.shape)\n",
    "print(\"Size of stud-mat : \" ,df1.size)\n",
    "print(\"Size of stud-por : \" ,df2.size)\n",
    "print(\"\\nDtype of stud-mat : \\n\" ,df1.dtypes)\n",
    "print(\"\\nDtype of stud-por : \\n\" ,df2.dtypes)\n",
    "print(\"\\nNumber of null values in each column of stud-mat : \\n\", df1.isnull().sum())\n",
    "print(\"\\nNumber of null values in each column of stud-por : \\n\", df1.isnull().sum())\n",
    "## Since all values are zero therefore no null values are present\n"
   ]
  },
  {
   "cell_type": "markdown",
   "metadata": {},
   "source": [
    "c. Data Cleaning\n",
    "\n",
    "● Handle missing values (e.g., replace them with the median or remove rows).\n",
    "\n",
    "● Remove duplicate entries using .drop_duplicates()."
   ]
  },
  {
   "cell_type": "code",
   "execution_count": 4,
   "metadata": {},
   "outputs": [
    {
     "name": "stdout",
     "output_type": "stream",
     "text": [
      "Number of duplicate rows for df1 :  0\n",
      "Number of duplicate rows for df2 :  0\n"
     ]
    }
   ],
   "source": [
    "## As mentioned above no missing data is present\n",
    "duplicate_count_for_df1 = df1.duplicated().sum()\n",
    "print(\"Number of duplicate rows for df1 : \", duplicate_count_for_df1)\n",
    "duplicate_count_for_df2 = df2.duplicated().sum()\n",
    "print(\"Number of duplicate rows for df2 : \", duplicate_count_for_df2)\n",
    "\n",
    "## No duplicate rows are present"
   ]
  },
  {
   "cell_type": "markdown",
   "metadata": {},
   "source": [
    "d. Data Analysis Questions\n",
    "1. What is the average score in math (G3)?\n",
    "2. How many students scored above 15 in their final grade (G3)?\n",
    "3. Is there a correlation between study time (study time) and the final grade (G3)?\n",
    "4. Which gender has a higher average final grade (G3)?"
   ]
  },
  {
   "cell_type": "code",
   "execution_count": 5,
   "metadata": {},
   "outputs": [
    {
     "name": "stdout",
     "output_type": "stream",
     "text": [
      "Merged DataFrame without duplicates :    school   sex   age  address  famsize  Pstatus   Medu   Fedu        Mjob   \\\n",
      "0     GP    F      18      U      GT3        A        4      4   at_home     \n",
      "1     GP    F      17      U      GT3        T        1      1   at_home     \n",
      "2     GP    F      15      U      LE3        T        1      1   at_home     \n",
      "3     GP    F      15      U      GT3        T        4      2    health     \n",
      "4     GP    F      16      U      GT3        T        3      3     other     \n",
      "\n",
      "         Fjob   ... famrel  freetime   goout   Dalc   Walc  health  absences   \\\n",
      "0    teacher    ...       4         3       4      1      1       3         6   \n",
      "1      other    ...       5         3       3      1      1       3         4   \n",
      "2      other    ...       4         3       2      2      3       3        10   \n",
      "3   services    ...       3         2       2      1      1       5         2   \n",
      "4      other    ...       4         3       2      1      2       5         4   \n",
      "\n",
      "  G1  G2   G3  \n",
      "0   5   6   6  \n",
      "1   5   5   6  \n",
      "2   7   8  10  \n",
      "3  15  14  15  \n",
      "4   6  10  10  \n",
      "\n",
      "[5 rows x 33 columns]\n",
      "\n",
      "1. Average score in math (G3) :  11.341954022988507\n",
      "\n",
      "2. No. of students scored above 15 in their final grade (G3) :  122\n",
      "\n",
      "3. Correlation between study time (study time) and the final grade (G3) :  0.16162893520293836\n",
      "   Therefore, study time and G3 has a weak positive correlation\n"
     ]
    },
    {
     "data": {
      "image/png": "[encoded data removed]",
      "text/plain": [
       "<Figure size 432x288 with 2 Axes>"
      ]
     },
     "metadata": {
      "needs_background": "light"
     },
     "output_type": "display_data"
    },
    {
     "name": "stdout",
     "output_type": "stream",
     "text": [
      "\n",
      "4. Average final grade (G3) by Gender:\n",
      "sex \n",
      " F      11.448393\n",
      " M      11.203091\n",
      "Name: G3, dtype: float64\n",
      "Gender with the higher average final grade (G3):  F  \n",
      "Average final grade (G3): 11.448392554991539\n"
     ]
    }
   ],
   "source": [
    "# Merging and removing duplicates\n",
    "merged_df = pd.merge(df1, df2, how='outer')#, suffixes=('_df1', '_df2'))\n",
    "merged_df_no_duplicates = merged_df.drop_duplicates()\n",
    "df3 = merged_df_no_duplicates\n",
    "print(\"Merged DataFrame without duplicates : \" , df3.head()) # No duplicate rows \n",
    "\n",
    "print(\"\\n1. Average score in math (G3) : \" ,df3['G3'].mean())\n",
    "\n",
    "print(\"\\n2. No. of students scored above 15 in their final grade (G3) : \" , (df3['G3'] > 15).sum())\n",
    "\n",
    "print(\"\\n3. Correlation between study time (study time) and the final grade (G3) : \" , df3['studytime '].corr(df3['G3']))\n",
    "print(\"   Therefore, study time and G3 has a weak positive correlation\")\n",
    "\n",
    "'''\n",
    "study time and G3 has a weak positive correlation , This suggests that as one variable increases\n",
    "the other variable might also increase, but the relationship is not consistent or significant enough to make \n",
    "strong predictions.\n",
    "'''\n",
    "# Visualize Correlation\n",
    "sns.heatmap(df3.corr(), annot=False, cmap='coolwarm', fmt='.2f')\n",
    "plt.show()\n",
    "\n",
    "\n",
    "print(\"\\n4. Average final grade (G3) by Gender:\")\n",
    "gender_avg = df3.groupby('sex ')['G3'].mean()\n",
    "higher_avg_gender = gender_avg.idxmax()\n",
    "higher_avg_score = gender_avg.max()\n",
    "print(gender_avg)\n",
    "print(f\"Gender with the higher average final grade (G3): {higher_avg_gender}\")\n",
    "print(f\"Average final grade (G3): {higher_avg_score}\")\n"
   ]
  },
  {
   "cell_type": "markdown",
   "metadata": {},
   "source": [
    "e. Data Visualization\n",
    "1. Plot a histogram of final grades (G3).\n",
    "2. Create a scatter plot between study time (study time) and final grade (G3).\n",
    "3. Create a bar chart comparing the average scores of male and female students."
   ]
  },
  {
   "cell_type": "code",
   "execution_count": 6,
   "metadata": {},
   "outputs": [
    {
     "data": {
      "image/png": "[encoded data removed]",
      "text/plain": [
       "<Figure size 432x288 with 1 Axes>"
      ]
     },
     "metadata": {
      "needs_background": "light"
     },
     "output_type": "display_data"
    },
    {
     "data": {
      "image/png": "[encoded data removed]",
      "text/plain": [
       "<Figure size 432x288 with 1 Axes>"
      ]
     },
     "metadata": {
      "needs_background": "light"
     },
     "output_type": "display_data"
    },
    {
     "data": {
      "image/png": "[encoded data removed]",
      "text/plain": [
       "<Figure size 432x288 with 1 Axes>"
      ]
     },
     "metadata": {
      "needs_background": "light"
     },
     "output_type": "display_data"
    }
   ],
   "source": [
    "\n",
    "# Histogram of final grades (G3).\n",
    "\n",
    "df3['G3'].plot(kind='hist' , bins=10 , alpha=.7, color='blue')\n",
    "plt.hist(df3['G3'] , bins=10 , alpha=.7)\n",
    "plt.title('Histogram of Final Grades (G3)')\n",
    "plt.xlabel('Final Grade (G3)')\n",
    "plt.ylabel('Frequency')\n",
    "plt.xticks([0,2,4,6,8,10,12,14,16,18,20])\n",
    "plt.show()\n",
    "\n",
    "\n",
    "# Scatter Plot between study time (study time) and final grade (G3).\n",
    "\n",
    "plt.scatter(df3['studytime '] ,df3['G3'] ,color='red' ,marker='*' ,s=10 )\n",
    "plt.title('Scatter Plot for StudyTime v/s Final Grades (G3)')\n",
    "plt.xlabel('StudyTime')\n",
    "plt.ylabel('Final Grade (G3)')\n",
    "plt.show()\n",
    "\n",
    "\n",
    "# Bar chart comparing the average scores of male and female students.\n",
    "\n",
    "average_g1 = df3.groupby('sex ')['G1 '].mean()\n",
    "average_g2 = df3.groupby('sex ')['G2 '].mean()\n",
    "average_g3 = df3.groupby('sex ')['G3'].mean()\n",
    "x=np.arange(len(average_g1))\n",
    "width=.2\n",
    "plt.bar(x+width, average_g1, width, label='G1', color='blue')\n",
    "plt.bar(x, average_g2, width, label='G2', color='orange')\n",
    "plt.bar(x-width, average_g3, width, label='G3', color='green')\n",
    "plt.xlabel('Gender')\n",
    "plt.ylabel('Average Scores')\n",
    "plt.title('Comparing average scores based on gender')\n",
    "plt.xticks(x, average_g1.index)  # Set x-axis labels to categories\n",
    "plt.ylim(11,12)\n",
    "plt.legend()\n",
    "plt.show()"
   ]
  }
 ],
 "metadata": {
  "kernelspec": {
   "display_name": "Python 3",
   "language": "python",
   "name": "python3"
  },
  "language_info": {
   "codemirror_mode": {
    "name": "ipython",
    "version": 3
   },
   "file_extension": ".py",
   "mimetype": "text/x-python",
   "name": "python",
   "nbconvert_exporter": "python",
   "pygments_lexer": "ipython3",
   "version": "3.7.6"
  }
 },
 "nbformat": 4,
 "nbformat_minor": 4
}
